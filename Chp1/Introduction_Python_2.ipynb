{
 "cells": [
  {
   "cell_type": "markdown",
   "metadata": {},
   "source": [
    " <a id='bottom'></a>\n",
    " <h1 align=\"center\">Intro à Python, 2ème partie : modules scientifiques, fonctions, classes</h1> "
   ]
  },
  {
   "cell_type": "markdown",
   "metadata": {},
   "source": [
    "<u>Sommaire :</u>\n",
    "\n",
    "0. <a href='#sec0'>Qu'est-ce qu'un module ?</a>\n",
    "1. <a href='#sec1'>Les tableaux avec le module *numpy*</a>\n",
    "2. <a href='#sec2'>Pour créer des graphiques : le module *matplotlib*</a>\n",
    "3. <a href='#sec3'>Le module *scipy*</a> \n",
    "4. <a href='#sec4'>Les fonctions</a> \n",
    "5. <a href='#sec5'>Les classes</a> \n",
    "6. <a href='#sec6'>Créer ses propres modules</a> \n",
    "\n",
    "\n",
    "<br>\n",
    "\n",
    "<a id='sec0'></a>  \n",
    "# Qu'est-ce qu'un module ?\n",
    "\n",
    "En programmation, on est souvent amené à utiliser plusieurs fois des mêmes groupes d'instructions dans un but très précis. Pour cela, les modules permettent de regrouper plusieurs fonctions qui pourront être appelées depuis différents scripts. Toutes les fonctions mathématiques, par exemple, peuvent être placées dans un module dédié aux mathématiques. Le concept de module permet ainsi de répartir différentes parties d’un programme sur plusieurs fichiers et évite d'en avoir un unique qui aurait une taille considérable. <br>\n",
    "Un regroupement de modules est appelé une librairie ou un *package*, mais nous utiliserons généralement dans cette introduction le terme \"module\" : tous les packages sont des modules, mais tous les modules ne sont pas forcément des packages.\n",
    "\n",
    "Il existe deux types de modules : ceux disponibles sur Internet (programmés par d’autres) et ceux que l’on programme soi-même. Concentrons-nous pour l'instant sur certains modules scientifiques préexistants.\n",
    "\n",
    "L'**importation** d'un module et de ses fonctions peut être faite de plusieurs manière : \n",
    "\n",
    "- `import module`  <br>\n",
    "$\\Rightarrow$ importation du module en entier, l'appel des fonctions présentes dans ce module se faisant ensuite par `module.fonction1` ;\n",
    "- `import module as mo`  <br>\n",
    "importation du module en entier sous l'abrévation `mo` ;\n",
    "- `from module import fonction1`  <br>\n",
    "$\\Rightarrow$ importation seulement de la `fonction1` (on peut également utiliser `from module import fonction1 as f1`) ;\n",
    "- `from module import *`  <br>\n",
    "$\\Rightarrow$ importation de toutes les fonctions d'un module... **attention**, cette manière de faire est généralement déconseillée car on ne connait pas forcément par coeur toutes les fonctions d'un module (redondance possible d'une fonction que j'ai définie avec une fonction définie dans le module = problèmes en vue).\n",
    "\n",
    "<br>\n",
    "\n",
    "Modules scientfiques utiles que nous allons voir :\n",
    "\n",
    "**[NumPy](http://www.numpy.org/)** :\n",
    "- principale utilité : contient l'objet *array*  et des fonctions pour le manipuler ;\n",
    "- contient aussi quelques fonctions d'algèbre linéaire et statistiques ; \n",
    "- est supporté par Python 2.6 et 2.7, ainsi que 3.2 et plus récents.\n",
    "\n",
    "**[SciPy](http://www.scipy.org/index.html)** :  \n",
    "- Modules d'algèbre linéaire, statistique et autre algorithmes numériques.  \n",
    "- Quelques fonctions redondantes avec celles de NumPy, mais elles sont plus évoluées que celles de NumPy.\n",
    "\n",
    "**[Matplotlib](http://matplotlib.org/)** :\n",
    "- fonctions de visualisation et de graphs ;\n",
    "- commandes proches de celles sous matlab."
   ]
  },
  {
   "cell_type": "markdown",
   "metadata": {},
   "source": [
    "<a href='#bottom'> <h3 align=\"right\"> Haut $\\uparrow$ </h3> </a>\n",
    "#  <a id='sec1'></a>  Les tableaux avec le module *numpy*\n",
    "\n",
    "NumPy est la bibliothèque de référence généraliste Python pour le calcul numérique. Elle apporte un support efficace pour l'utilisation de larges tableaux multidimensionnels et propose des routines mathématiques de haut niveau (fonctions spéciales, algèbre linéaire, statistiques, etc.). Nous allons pour l'instant nous concentrer sur les tableaux.\n",
    "\n",
    "** L'importation du module **\n",
    "\n",
    "Nous utiliserons la convention suivante d'import de ce module : \"`import numpy as np`\".\n",
    "\n",
    "**Tableaux**\n",
    "\n",
    "La structure *array* est un **tableau multidimensionnel homogène** : tous les éléments doivent avoir le même type, en général numérique. Vocabulaire :\n",
    "- **axes** : les différentes dimensions du tableau ;\n",
    "- **rang** : le nombre de dimensions (0 pour un scalaire, 1 pour un vecteur, 2 pour une matrice, etc)."
   ]
  },
  {
   "cell_type": "markdown",
   "metadata": {},
   "source": [
    "**Exemple d'un tableau à 1 dimension :**"
   ]
  },
  {
   "cell_type": "code",
   "execution_count": 1,
   "metadata": {},
   "outputs": [
    {
     "name": "stdout",
     "output_type": "stream",
     "text": [
      "[4 3 2]\n"
     ]
    }
   ],
   "source": [
    "import numpy as np\n",
    "\n",
    "my_1D_array = np.array([4, 3, 2])\n",
    "print(my_1D_array)"
   ]
  },
  {
   "cell_type": "code",
   "execution_count": 2,
   "metadata": {},
   "outputs": [
    {
     "data": {
      "text/plain": [
       "numpy.ndarray"
      ]
     },
     "execution_count": 2,
     "metadata": {},
     "output_type": "execute_result"
    }
   ],
   "source": [
    "type(my_1D_array)"
   ]
  },
  {
   "cell_type": "code",
   "execution_count": null,
   "metadata": {},
   "outputs": [],
   "source": [
    "my_1D_array.ndim     # Rang du tableau (ici un vecteur = rang 1)"
   ]
  },
  {
   "cell_type": "code",
   "execution_count": 5,
   "metadata": {},
   "outputs": [
    {
     "data": {
      "text/plain": [
       "(3,)"
      ]
     },
     "execution_count": 5,
     "metadata": {},
     "output_type": "execute_result"
    }
   ],
   "source": [
    "my_1D_array.shape    # Format du tableau (nombre d'éléments le long de chacune des dimensions)"
   ]
  },
  {
   "cell_type": "markdown",
   "metadata": {},
   "source": [
    "**Exemple d'un tableau à 2 dimensions : **"
   ]
  },
  {
   "cell_type": "code",
   "execution_count": 4,
   "metadata": {},
   "outputs": [
    {
     "name": "stdout",
     "output_type": "stream",
     "text": [
      "[[1 0 0]\n",
      " [0 2 0]\n",
      " [0 0 3]]\n"
     ]
    }
   ],
   "source": [
    "my_2D_array = np.array([[1, 0, 0],[0, 2, 0],[0, 0, 3]])\n",
    "print(my_2D_array)"
   ]
  },
  {
   "cell_type": "code",
   "execution_count": 5,
   "metadata": {},
   "outputs": [
    {
     "data": {
      "text/plain": [
       "2"
      ]
     },
     "execution_count": 5,
     "metadata": {},
     "output_type": "execute_result"
    }
   ],
   "source": [
    "my_2D_array.ndim"
   ]
  },
  {
   "cell_type": "code",
   "execution_count": 6,
   "metadata": {},
   "outputs": [
    {
     "data": {
      "text/plain": [
       "(3, 3)"
      ]
     },
     "execution_count": 6,
     "metadata": {},
     "output_type": "execute_result"
    }
   ],
   "source": [
    "my_2D_array.shape   # 3 lignes, 3 colonnes"
   ]
  },
  {
   "cell_type": "code",
   "execution_count": 7,
   "metadata": {},
   "outputs": [
    {
     "data": {
      "text/plain": [
       "array([[1., 1., 1., 1., 1., 1., 1., 1., 1., 1.],\n",
       "       [1., 1., 1., 1., 1., 1., 1., 1., 1., 1.],\n",
       "       [1., 1., 1., 1., 1., 1., 1., 1., 1., 1.],\n",
       "       [1., 1., 1., 1., 1., 1., 1., 1., 1., 1.],\n",
       "       [1., 1., 1., 1., 1., 1., 1., 1., 1., 1.],\n",
       "       [1., 1., 1., 1., 1., 1., 1., 1., 1., 1.],\n",
       "       [1., 1., 1., 1., 1., 1., 1., 1., 1., 1.],\n",
       "       [1., 1., 1., 1., 1., 1., 1., 1., 1., 1.],\n",
       "       [1., 1., 1., 1., 1., 1., 1., 1., 1., 1.],\n",
       "       [1., 1., 1., 1., 1., 1., 1., 1., 1., 1.]])"
      ]
     },
     "execution_count": 7,
     "metadata": {},
     "output_type": "execute_result"
    }
   ],
   "source": [
    "np.ones((10,10))"
   ]
  },
  {
   "cell_type": "markdown",
   "metadata": {},
   "source": [
    "**Fonctions de conctruction de tableaux**\n",
    "\n",
    "- arange() : génère un tableau de la même manière que *range* pour une liste (cf section sur la boucle *for*)."
   ]
  },
  {
   "cell_type": "code",
   "execution_count": 8,
   "metadata": {},
   "outputs": [
    {
     "data": {
      "text/plain": [
       "array([0, 1, 2, 3, 4])"
      ]
     },
     "execution_count": 8,
     "metadata": {},
     "output_type": "execute_result"
    }
   ],
   "source": [
    "np.arange(5)   #evite de taper np.array([0, 1, 2, 3, 4])"
   ]
  },
  {
   "cell_type": "markdown",
   "metadata": {},
   "source": [
    "- ones() : génère un tableau ne contenant que des 1 (ou des 0. en utilisant zeros() )."
   ]
  },
  {
   "cell_type": "code",
   "execution_count": 9,
   "metadata": {},
   "outputs": [
    {
     "data": {
      "text/plain": [
       "array([1., 1., 1.])"
      ]
     },
     "execution_count": 9,
     "metadata": {},
     "output_type": "execute_result"
    }
   ],
   "source": [
    "np.ones(3) "
   ]
  },
  {
   "cell_type": "markdown",
   "metadata": {
    "collapsed": true
   },
   "source": [
    "- eye() : génère une matrice identité."
   ]
  },
  {
   "cell_type": "markdown",
   "metadata": {},
   "source": [
    "**Manipulations sur les tableaux **\n",
    "\n",
    "Il existe plein de fonctions de manipulations de tableaux (min, max, mean, sum, reshape...). Les tableaux à 1D sont indexables comme les listes standard. En dimension supérieure (vecteurs, matrices...), chaque axe est indéxable indépendamment."
   ]
  },
  {
   "cell_type": "code",
   "execution_count": 10,
   "metadata": {},
   "outputs": [
    {
     "name": "stdout",
     "output_type": "stream",
     "text": [
      "[0 1 2 3 4 5 6 7 8 9]\n",
      "[ 0  1 -2  3  4 -5  6  7 -8  9]\n"
     ]
    }
   ],
   "source": [
    "x = np.arange(10)\n",
    "print(x)\n",
    "x[2::3] *= -1      # multiplication par -1 des entrées du tableaux à partir de l'indice 1 puis de 3 en 3.\n",
    "print(x)"
   ]
  },
  {
   "cell_type": "code",
   "execution_count": 11,
   "metadata": {},
   "outputs": [
    {
     "name": "stdout",
     "output_type": "stream",
     "text": [
      "[[ 0  1  2  3  4  5]\n",
      " [10 11 12 13 14 15]\n",
      " [20 21 22 23 24 25]\n",
      " [30 31 32 33 34 35]\n",
      " [40 41 42 43 44 45]\n",
      " [50 51 52 53 54 55]]\n"
     ]
    }
   ],
   "source": [
    "a = np.arange(36).reshape(6,6)\n",
    "for i in range(5) :\n",
    "    a[i+1,:] = a[i,:] + 10\n",
    "print(a)"
   ]
  },
  {
   "cell_type": "markdown",
   "metadata": {},
   "source": [
    "<img src=\"exemple_tableau.png\">"
   ]
  },
  {
   "cell_type": "markdown",
   "metadata": {},
   "source": [
    "Plus d'exemples dans http://wiki.scipy.org/Tentative_NumPy_Tutorial ou http://scipy-lectures.github.io/intro/numpy/numpy.html."
   ]
  },
  {
   "cell_type": "markdown",
   "metadata": {},
   "source": [
    "**Exercices** : \n",
    "- Comprenez les fonctionnements de `a.mean` et `np.median`. "
   ]
  },
  {
   "cell_type": "code",
   "execution_count": 12,
   "metadata": {},
   "outputs": [
    {
     "name": "stdout",
     "output_type": "stream",
     "text": [
      "Help on built-in function mean:\n",
      "\n",
      "mean(...) method of numpy.ndarray instance\n",
      "    a.mean(axis=None, dtype=None, out=None, keepdims=False)\n",
      "    \n",
      "    Returns the average of the array elements along given axis.\n",
      "    \n",
      "    Refer to `numpy.mean` for full documentation.\n",
      "    \n",
      "    See Also\n",
      "    --------\n",
      "    numpy.mean : equivalent function\n",
      "\n"
     ]
    }
   ],
   "source": [
    "help(a.mean) "
   ]
  },
  {
   "cell_type": "code",
   "execution_count": 13,
   "metadata": {},
   "outputs": [
    {
     "data": {
      "text/plain": [
       "27.5"
      ]
     },
     "execution_count": 13,
     "metadata": {},
     "output_type": "execute_result"
    }
   ],
   "source": [
    "a.mean() #moyenne sur tout le tableau"
   ]
  },
  {
   "cell_type": "code",
   "execution_count": 14,
   "metadata": {},
   "outputs": [
    {
     "data": {
      "text/plain": [
       "array([25., 26., 27., 28., 29., 30.])"
      ]
     },
     "execution_count": 14,
     "metadata": {},
     "output_type": "execute_result"
    }
   ],
   "source": [
    "a.mean(axis=0) #moyennes de chaque colonne. On peut aussi ecrire a.mean(0)"
   ]
  },
  {
   "cell_type": "code",
   "execution_count": 15,
   "metadata": {},
   "outputs": [
    {
     "data": {
      "text/plain": [
       "array([ 2.5, 12.5, 22.5, 32.5, 42.5, 52.5])"
      ]
     },
     "execution_count": 15,
     "metadata": {},
     "output_type": "execute_result"
    }
   ],
   "source": [
    "a.mean(axis=1) #moyennes de chaque ligne. On peut aussi ecrire a.mean(1)"
   ]
  },
  {
   "cell_type": "code",
   "execution_count": 16,
   "metadata": {},
   "outputs": [
    {
     "name": "stdout",
     "output_type": "stream",
     "text": [
      "Help on function median in module numpy.lib.function_base:\n",
      "\n",
      "median(a, axis=None, out=None, overwrite_input=False, keepdims=False)\n",
      "    Compute the median along the specified axis.\n",
      "    \n",
      "    Returns the median of the array elements.\n",
      "    \n",
      "    Parameters\n",
      "    ----------\n",
      "    a : array_like\n",
      "        Input array or object that can be converted to an array.\n",
      "    axis : {int, sequence of int, None}, optional\n",
      "        Axis or axes along which the medians are computed. The default\n",
      "        is to compute the median along a flattened version of the array.\n",
      "        A sequence of axes is supported since version 1.9.0.\n",
      "    out : ndarray, optional\n",
      "        Alternative output array in which to place the result. It must\n",
      "        have the same shape and buffer length as the expected output,\n",
      "        but the type (of the output) will be cast if necessary.\n",
      "    overwrite_input : bool, optional\n",
      "       If True, then allow use of memory of input array `a` for\n",
      "       calculations. The input array will be modified by the call to\n",
      "       `median`. This will save memory when you do not need to preserve\n",
      "       the contents of the input array. Treat the input as undefined,\n",
      "       but it will probably be fully or partially sorted. Default is\n",
      "       False. If `overwrite_input` is ``True`` and `a` is not already an\n",
      "       `ndarray`, an error will be raised.\n",
      "    keepdims : bool, optional\n",
      "        If this is set to True, the axes which are reduced are left\n",
      "        in the result as dimensions with size one. With this option,\n",
      "        the result will broadcast correctly against the original `arr`.\n",
      "    \n",
      "        .. versionadded:: 1.9.0\n",
      "    \n",
      "    Returns\n",
      "    -------\n",
      "    median : ndarray\n",
      "        A new array holding the result. If the input contains integers\n",
      "        or floats smaller than ``float64``, then the output data-type is\n",
      "        ``np.float64``.  Otherwise, the data-type of the output is the\n",
      "        same as that of the input. If `out` is specified, that array is\n",
      "        returned instead.\n",
      "    \n",
      "    See Also\n",
      "    --------\n",
      "    mean, percentile\n",
      "    \n",
      "    Notes\n",
      "    -----\n",
      "    Given a vector ``V`` of length ``N``, the median of ``V`` is the\n",
      "    middle value of a sorted copy of ``V``, ``V_sorted`` - i\n",
      "    e., ``V_sorted[(N-1)/2]``, when ``N`` is odd, and the average of the\n",
      "    two middle values of ``V_sorted`` when ``N`` is even.\n",
      "    \n",
      "    Examples\n",
      "    --------\n",
      "    >>> a = np.array([[10, 7, 4], [3, 2, 1]])\n",
      "    >>> a\n",
      "    array([[10,  7,  4],\n",
      "           [ 3,  2,  1]])\n",
      "    >>> np.median(a)\n",
      "    3.5\n",
      "    >>> np.median(a, axis=0)\n",
      "    array([ 6.5,  4.5,  2.5])\n",
      "    >>> np.median(a, axis=1)\n",
      "    array([ 7.,  2.])\n",
      "    >>> m = np.median(a, axis=0)\n",
      "    >>> out = np.zeros_like(m)\n",
      "    >>> np.median(a, axis=0, out=m)\n",
      "    array([ 6.5,  4.5,  2.5])\n",
      "    >>> m\n",
      "    array([ 6.5,  4.5,  2.5])\n",
      "    >>> b = a.copy()\n",
      "    >>> np.median(b, axis=1, overwrite_input=True)\n",
      "    array([ 7.,  2.])\n",
      "    >>> assert not np.all(a==b)\n",
      "    >>> b = a.copy()\n",
      "    >>> np.median(b, axis=None, overwrite_input=True)\n",
      "    3.5\n",
      "    >>> assert not np.all(a==b)\n",
      "\n"
     ]
    }
   ],
   "source": [
    "help(np.median)"
   ]
  },
  {
   "cell_type": "code",
   "execution_count": 17,
   "metadata": {},
   "outputs": [
    {
     "data": {
      "text/plain": [
       "27.5"
      ]
     },
     "execution_count": 17,
     "metadata": {},
     "output_type": "execute_result"
    }
   ],
   "source": [
    "np.median(a)"
   ]
  },
  {
   "cell_type": "code",
   "execution_count": 18,
   "metadata": {},
   "outputs": [
    {
     "data": {
      "text/plain": [
       "array([25., 26., 27., 28., 29., 30.])"
      ]
     },
     "execution_count": 18,
     "metadata": {},
     "output_type": "execute_result"
    }
   ],
   "source": [
    "np.median(a, axis=0)"
   ]
  },
  {
   "cell_type": "markdown",
   "metadata": {},
   "source": [
    "- Soient les vecteurs `v1 = np.arange(6)` et `v2 = np.arange(6)*2`. Que fait `np.inner(v1, v2)` ?"
   ]
  },
  {
   "cell_type": "code",
   "execution_count": 19,
   "metadata": {},
   "outputs": [
    {
     "data": {
      "text/plain": [
       "110"
      ]
     },
     "execution_count": 19,
     "metadata": {},
     "output_type": "execute_result"
    }
   ],
   "source": [
    "v1 = np.arange(6)\n",
    "v2 = np.arange(6)*2\n",
    "np.inner(v1, v2)   #produit scalaire de v1 par v2"
   ]
  },
  {
   "cell_type": "markdown",
   "metadata": {},
   "source": [
    "<a href='#bottom'> <h3 align=\"right\"> Haut $\\uparrow$ </h3> </a>\n",
    "#  <a id='sec2'></a>  Pour créer des graphiques : le module *matplotlib*\n",
    "\n",
    "Matplotlib est une bibliothèque graphique de visualisation 2D (et marginalement 3D), avec support intéractif et sorties de haute qualité. <br>\n",
    "Nous allons voir ici un aperçu rapide d'une utilisation très basique de Matplotlib, mais pour aller plus loin dans les options $\\Rightarrow$ http://www.labri.fr/perso/nrougier/teaching/matplotlib/\n",
    "\n",
    "Remarque : utilisez **`ipython -pylab`** pour l’utilisation intéractive des figures."
   ]
  },
  {
   "cell_type": "code",
   "execution_count": 20,
   "metadata": {},
   "outputs": [],
   "source": [
    "from math import sin\n",
    "\n",
    "y = []\n",
    "for i in x:\n",
    "    y.append(sin(i))"
   ]
  },
  {
   "cell_type": "code",
   "execution_count": 21,
   "metadata": {
    "scrolled": true
   },
   "outputs": [
    {
     "name": "stdout",
     "output_type": "stream",
     "text": [
      "[0.0, 0.8414709848078965, -0.9092974268256817, 0.1411200080598672, -0.7568024953079282, 0.9589242746631385, -0.27941549819892586, 0.6569865987187891, -0.9893582466233818, 0.4121184852417566]\n"
     ]
    }
   ],
   "source": [
    "print(y)"
   ]
  },
  {
   "cell_type": "code",
   "execution_count": 23,
   "metadata": {},
   "outputs": [
    {
     "data": {
      "image/png": "[encoded data removed]",
      "text/plain": [
       "<matplotlib.figure.Figure at 0x20bfcd88080>"
      ]
     },
     "metadata": {},
     "output_type": "display_data"
    }
   ],
   "source": [
    "import numpy as np\n",
    "import matplotlib.pyplot as plt\n",
    "\n",
    "x = np.linspace(-np.pi, np.pi, 100)  # note : pour avoir d el'aide sur la fonction linspace => help(np.linspace)\n",
    "y = np.sin(x)                        # fonction sinus provenant du module numpy\n",
    "\n",
    "plt.plot(x, y)         # un trace simple\n",
    "plt.plot(x, y, 'o')    # un 'dot' pour chaque point\n",
    "plt.xlabel(\"x [rad]\")\n",
    "plt.ylabel(\"y\")\n",
    "plt.title(\"y = sin(x)\")\n",
    "plt.show()\n"
   ]
  },
  {
   "cell_type": "markdown",
   "metadata": {},
   "source": [
    "Pour un peu plus de fun en 2D :"
   ]
  },
  {
   "cell_type": "code",
   "execution_count": 24,
   "metadata": {},
   "outputs": [
    {
     "data": {
      "image/png": "[encoded data removed]",
      "text/plain": [
       "<matplotlib.figure.Figure at 0x20bfd0dd208>"
      ]
     },
     "metadata": {},
     "output_type": "display_data"
    }
   ],
   "source": [
    "image = np.random.rand(30, 30)\n",
    "plt.imshow(image)\n",
    "plt.colorbar()\n",
    "plt.show()"
   ]
  },
  {
   "cell_type": "markdown",
   "metadata": {},
   "source": [
    "<a href='#bottom'> <h3 align=\"right\"> Haut $\\uparrow$ </h3> </a>\n",
    "#  <a id='sec3'></a>  Le module *scipy*\n",
    "\n",
    "SciPy est une bibliothèque numérique d’algorithmes et de fonctions mathématiques complétant ou améliorant (en terme de performances) les fonctionnalités de NumPy. Voici quelques exemples de fonctions présentes dans ce module :\n",
    "\n",
    "\n",
    "- Intégration numérique: [scipy.integrate](http://docs.scipy.org/doc/scipy/reference/integrate.html#module-scipy.integrate) (intégration numérique ou d’équations différentielles)\n",
    "-    Méthodes d’optimisation: [scipy.optimize](http://docs.scipy.org/doc/scipy/reference/optimize.html#module-scipy.optimize) (minimisation, moindres-carrés, zéros d’une fonction, etc.)\n",
    "-    Interpolation: [scipy.interpolate](http://docs.scipy.org/doc/scipy/reference/interpolate.html#module-scipy.interpolate) (interpolation, splines)\n",
    "-    Transformées de Fourier: [scipy.fftpack](http://docs.scipy.org/doc/scipy/reference/fftpack.html#module-scipy.fftpack)\n",
    "-    Traitement du signal: [scipy.signal](http://docs.scipy.org/doc/scipy/reference/signal.html#module-scipy.signal) (convolution, corrélation, filtrage, ondelettes, etc.)\n",
    "-    Algèbre linéaire: [scipy.linalg](http://docs.scipy.org/doc/scipy/reference/linalg.html#module-scipy.linalg)\n",
    "-    Statistiques: [scipy.stats](http://docs.scipy.org/doc/scipy/reference/stats.html#module-scipy.stats) (fonctions et distributions statistiques)\n",
    "\n",
    "\n",
    "**Exemple simple d'interpolation :** (utilisation de `scipy.interpolate`)"
   ]
  },
  {
   "cell_type": "code",
   "execution_count": 25,
   "metadata": {},
   "outputs": [
    {
     "data": {
      "image/png": "[encoded data removed]",
      "text/plain": [
       "<matplotlib.figure.Figure at 0x20bfe138710>"
      ]
     },
     "metadata": {},
     "output_type": "display_data"
    }
   ],
   "source": [
    "import numpy as np\n",
    "import matplotlib.pyplot as plt\n",
    "from scipy.interpolate import interp1d\n",
    "\n",
    "# generation des points de donnees\n",
    "x = np.linspace(0, 10, num=11, endpoint=True)\n",
    "y = np.cos(-x**2/9.0)\n",
    "\n",
    "# comparaison de 2 types de fonctions d'interpolation\n",
    "f = interp1d(x, y)\n",
    "f2 = interp1d(x, y, kind='cubic')\n",
    "\n",
    "xnew = np.linspace(0, 10, num=41, endpoint=True)\n",
    "plt.plot(x, y, marker='o', label='data') \n",
    "plt.plot(xnew, f(xnew), linestyle='-', label='linear') \n",
    "plt.plot(xnew, f2(xnew), linestyle='--', label='cubic') \n",
    "plt.legend(loc='best')                                    # ajout de la legende en fonction de chaque \"label\"\n",
    "plt.show()\n"
   ]
  },
  {
   "cell_type": "markdown",
   "metadata": {
    "collapsed": true
   },
   "source": [
    "<a href='#bottom'> <h3 align=\"right\"> Haut $\\uparrow$ </h3> </a>\n",
    "# <a id='sec4'></a>   Les fonctions\n",
    "\n",
    "Une fonction (ou *function*) est une suite d'instructions que l'on peut appeler grâce à son nom. Il en existe un très grand nombre dans différentes librairies ou modules Python et nous avons déjà utilisé plusieurs fonctions jusque là, mais il est également utile de savoir comment créer ses propres fonctions (et ensuite ses propres modules). La création de fonctions est le 1er pas vers la **modularité** ! \n",
    "\n",
    "On crée une fonction en utilisant le mot-clé **`def`** selon le schéma suivant :"
   ]
  },
  {
   "cell_type": "raw",
   "metadata": {
    "collapsed": true
   },
   "source": [
    "def nom_de_la_fonction(argument1, argument2, argumentN):\n",
    "    # Bloc d'instructions"
   ]
  },
  {
   "cell_type": "code",
   "execution_count": 26,
   "metadata": {},
   "outputs": [],
   "source": [
    "?np.array"
   ]
  },
  {
   "cell_type": "markdown",
   "metadata": {},
   "source": [
    "Remarques :\n",
    "- argument1 etc... sont les paramètres d'entrées de la fonction. S'il n'y a pas de paramètres d'entrées, il faut quand même mettre les () ;\n",
    "- Tout comme pour les boucles, l'**indentation** après les deux points est primordiale !\n",
    "\n",
    "Exemple simple d'une fonction :"
   ]
  },
  {
   "cell_type": "code",
   "execution_count": 28,
   "metadata": {},
   "outputs": [
    {
     "name": "stdout",
     "output_type": "stream",
     "text": [
      "68.0\n"
     ]
    }
   ],
   "source": [
    "def cel_to_fahr(temp):\n",
    "    temp_fahr = 32 + 1.8 * temp\n",
    "    return temp_fahr\n",
    "\n",
    "new_temp = cel_to_fahr(20)\n",
    "print( new_temp)"
   ]
  },
  {
   "cell_type": "markdown",
   "metadata": {},
   "source": [
    "Le **`return`** permet retourner une valeur en sortie de la fonction, pour pouvoir la récupérer ensuite et la stocker dans une variable par exemple. Ce `return` n'est pas obligatoire car cela dépend de l'utilisation que vous voulez avoir de votre fonction (mais, en principe, vous allez en avoir souvent besoin). Si par exemple vous ne voulez pas réutiliser la nouvelle température *temp_fahr* mais seulement l'afficher, vous pouvez écrire :"
   ]
  },
  {
   "cell_type": "code",
   "execution_count": 29,
   "metadata": {},
   "outputs": [
    {
     "name": "stdout",
     "output_type": "stream",
     "text": [
      "20 degres Celsius = 68.0 degres Fahrenheit\n"
     ]
    }
   ],
   "source": [
    "def cel_to_fahr(temp):\n",
    "    temp_fahr = 32 + 1.8 * temp\n",
    "    print(temp, \"degres Celsius =\", temp_fahr, \"degres Fahrenheit\")\n",
    "\n",
    "cel_to_fahr(20)"
   ]
  },
  {
   "cell_type": "markdown",
   "metadata": {},
   "source": [
    "**Chaîne d'aide (*docstring*)**, ou comment coder proprement :\n",
    "\n",
    "Pour rendre le code réutilisable (par soi-même ou par d'autres personnes), il est important de suivre **certaines règles** [(PEP8 par exemple)](https://www.python.org/dev/peps/pep-0008/) pour une meilleure lisibilité et une meilleure compréhension. Par exemple, les fonctions doivent être généralement définies avec au moins un mot (en lien avec l'utilité de la fonction) en **lettres minuscules séparés par des underscores** ( `_` ) s'il y en a besoin de plusieurs.\n",
    "\n",
    "Documenter vos fonctions est également une bonne habitude à prendre. Pour cela, on indente la chaîne de commentaires et on la met entre triple guillemets."
   ]
  },
  {
   "cell_type": "code",
   "execution_count": 30,
   "metadata": {},
   "outputs": [],
   "source": [
    "def table(nb, maxi=10):\n",
    "    \"\"\"Fonction affichant la table de multiplication par nb de 1*nb à max*nb.\n",
    "       \n",
    "    (max >= 0)\n",
    "    \"\"\"\n",
    "    pas = 0\n",
    "    while pas < maxi:\n",
    "        print(pas + 1, \"*\", nb, \"=\", (pas + 1) * nb)\n",
    "        pas += 1"
   ]
  },
  {
   "cell_type": "code",
   "execution_count": 31,
   "metadata": {},
   "outputs": [
    {
     "name": "stdout",
     "output_type": "stream",
     "text": [
      "Help on function table in module __main__:\n",
      "\n",
      "table(nb, maxi=10)\n",
      "    Fonction affichant la table de multiplication par nb de 1*nb à max*nb.\n",
      "       \n",
      "    (max >= 0)\n",
      "\n"
     ]
    }
   ],
   "source": [
    "help(table)"
   ]
  },
  {
   "cell_type": "markdown",
   "metadata": {},
   "source": [
    "**Valeurs par défaut des arguments**\n",
    "\n",
    "Comme vous l'avez remarqué, l'un des arguments de la fonction `table` a déjà une valeur qui lui est assignée : c'est une valeur par défaut (c'est-à-dire ce sera la valeur utilisée si l'utilisateur de votre fonction ne le précise pas). Prenons un exemple simple pour illustrer l'utilisation des arguments par défaut :"
   ]
  },
  {
   "cell_type": "code",
   "execution_count": 32,
   "metadata": {},
   "outputs": [],
   "source": [
    "def fonc(a=1, b=2, c=3, d=4):\n",
    "    print(\"a =\", a, \"b =\", b, \"c =\", c, \"d =\", d)"
   ]
  },
  {
   "cell_type": "code",
   "execution_count": 33,
   "metadata": {},
   "outputs": [
    {
     "name": "stdout",
     "output_type": "stream",
     "text": [
      "a = 1 b = 2 c = 3 d = 4\n"
     ]
    }
   ],
   "source": [
    "fonc()"
   ]
  },
  {
   "cell_type": "code",
   "execution_count": 34,
   "metadata": {},
   "outputs": [
    {
     "name": "stdout",
     "output_type": "stream",
     "text": [
      "a = 11 b = 22 c = 3 d = 4\n"
     ]
    }
   ],
   "source": [
    "fonc(11, 22)  # les valeur des parametres 'a' et 'b' on ete changees, \n",
    "              # mais les autres restent sur leur valeur par defaut."
   ]
  },
  {
   "cell_type": "code",
   "execution_count": 35,
   "metadata": {},
   "outputs": [
    {
     "name": "stdout",
     "output_type": "stream",
     "text": [
      "a = 1 b = coucou c = 3 d = 44\n"
     ]
    }
   ],
   "source": [
    "fonc(b='coucou', d=44)"
   ]
  },
  {
   "cell_type": "markdown",
   "metadata": {},
   "source": [
    "**Nombre non défini d'arguments**\n",
    "\n",
    "Il existe des fonctions qui acceptent un nombre indéterminé d'arguments. Il est possible de définir cela de deux manières différentes : avec des arguments anonymes ou avec arguments associés à des clés (utilisation de dictionnaires). **Attention**, ces arguments spéciaux doivent être placés en dernier dans la liste d'arguments lors de la déclaration de la fonction.\n",
    "\n",
    "- Arguments anonymes $\\Rightarrow$ `def fonction(arg_standard, arg_valeur_defaut, *arg_anonyme):`\n",
    "\n",
    "Lors de l'appel de la fonction, `arg_anonyme` est alors une séquence (liste, tuple ou chaîne de caractères)."
   ]
  },
  {
   "cell_type": "code",
   "execution_count": 36,
   "metadata": {},
   "outputs": [
    {
     "name": "stdout",
     "output_type": "stream",
     "text": [
      "Salut\n",
      "à\n",
      "tous\n",
      "!\n"
     ]
    }
   ],
   "source": [
    "def fonction(*arguments) :\n",
    "    \"\"\"Une fonction avec un nombre indéfini d'arguments.\n",
    "       arguments : une séquence.\n",
    "    \"\"\"\n",
    "    for element in arguments :\n",
    "        print(element)\n",
    "\n",
    "fonction(\"Salut\", \"à\", \"tous\", \"!\")"
   ]
  },
  {
   "cell_type": "markdown",
   "metadata": {},
   "source": [
    "- Arguments avec clé $\\Rightarrow$ `def fonction (arg_standard, arg_valeur_defaut, **arg_dictionnaire):`"
   ]
  },
  {
   "cell_type": "code",
   "execution_count": 37,
   "metadata": {},
   "outputs": [
    {
     "name": "stdout",
     "output_type": "stream",
     "text": [
      "arg1 tele\n",
      "arg2 vision\n"
     ]
    }
   ],
   "source": [
    "def fonction(**arguments) :\n",
    "    \"\"\"Test de fonction avec un nombre indéfini d'arguments.\n",
    "       arguments : un dictionnaire.\n",
    "    \"\"\"\n",
    "    for cle in arguments :\n",
    "        print(cle,arguments[cle])\n",
    "\n",
    "fonction(arg1 = 'tele', arg2 = 'vision')"
   ]
  },
  {
   "cell_type": "markdown",
   "metadata": {},
   "source": [
    "** Variable locale, variable globale **\n",
    "\n",
    "$\\Rightarrow$ **Variable locale** : variable définie à l'intérieur d'une fonction (inaccessible depuis l'extérieur de cette fonction). <br>\n",
    "Par exemple dans notre fonction `table`, *pas* est une variable locale et ne pourra pas être appelée depuis l'extérieur de notre fonction. \n",
    "\n",
    "$\\Rightarrow$ **Variable globale** : variable définie à l'extérieur des fonctions (donc dans le corps de votre programme). Leur contenu est \"visible\" de l'intérieur d'une fonction, mais la fonction ne peut pas le modifier. <br>\n",
    "Exemple pour illustrer les variables globales :"
   ]
  },
  {
   "cell_type": "code",
   "execution_count": 38,
   "metadata": {},
   "outputs": [],
   "source": [
    "def mask():\n",
    "    p = 20\n",
    "    print(p, q)\n",
    "p, q = 15, 38"
   ]
  },
  {
   "cell_type": "code",
   "execution_count": 39,
   "metadata": {},
   "outputs": [
    {
     "name": "stdout",
     "output_type": "stream",
     "text": [
      "20 38\n"
     ]
    }
   ],
   "source": [
    "mask()"
   ]
  },
  {
   "cell_type": "code",
   "execution_count": 41,
   "metadata": {},
   "outputs": [
    {
     "name": "stdout",
     "output_type": "stream",
     "text": [
      "15 38\n"
     ]
    }
   ],
   "source": [
    "print(p, q)"
   ]
  },
  {
   "cell_type": "markdown",
   "metadata": {},
   "source": [
    "** Résumé sur les fonctions **\n",
    "\n",
    "Une fonction est composée de trois grandes parties :\n",
    "- son **nom** qui permet d'y faire appel ;\n",
    "- ses **arguments** (les paramètres d'entrée) qui permettent de spécifier des données à lui transmettre ;\n",
    "- sa **sortie** (avec `return`), c'est-à-dire ce qu'elle retourne comme résultat. Si aucun résultat n'est retourné, on appelle cela une **procédure** plutôt qu'une fonction.\n",
    "\n",
    "\n",
    "\n",
    "**Note sur les fonctions *lambda* **\n",
    "\n",
    "Le mot-clé *lambda* permet de créer une fonction courte (car limitée à une seule ligne) et elle est donc pratique seulement dans certains cas où l'utilisation de `def` serait plus long et moins pratique. Sa syntaxe est illustrée par l'exemple suivant :"
   ]
  },
  {
   "cell_type": "code",
   "execution_count": 42,
   "metadata": {},
   "outputs": [
    {
     "name": "stdout",
     "output_type": "stream",
     "text": [
      "5\n"
     ]
    }
   ],
   "source": [
    "f = lambda x, y: x + y\n",
    "\n",
    "print(f(3, 2))"
   ]
  },
  {
   "cell_type": "markdown",
   "metadata": {},
   "source": [
    "<a href='#bottom'> <h3 align=\"right\"> Haut $\\uparrow$ </h3> </a>\n",
    "# <a id='sec5'></a>   Les classes : courte intro à la POO avec Python\n",
    "\n",
    "Les classes sont les principaux outils de la *Programmation Orientée Objet* (POO) en Python. Ce type de programmation permet de structurer les logiciels complexes en les organisant comme des ensembles d'objets qui interagissent, entre eux et avec le monde extérieur. Un objet est une entité de programmation, disposant de ses propres états et fonctionnalités. Ce paragraphe est une courte introduction aux classes, nous reviendrons sur la POO plus loin dans ce cours. \n",
    "\n",
    "Concrètement, une classe regroupe des fonctions (appelées dans ce cas-là **\"méthodes\"**) et des **attributs** qui définissent un objet. Par **convention**, le nom d'une classe doit contenir des **mots attachés (ou un seul) commençant chacun par une majuscule**. <br>\n",
    "On crée une classe en utilisant le mot-clé **`class`** selon le schéma suivant :"
   ]
  },
  {
   "cell_type": "raw",
   "metadata": {
    "collapsed": true
   },
   "source": [
    "class ClassName():\n",
    "    \"\"\"Une classe.\"\"\"\n",
    "    def __init__(self, args):\n",
    "        self.param1 = ...\n",
    "        ...\n",
    "    \n",
    "    def methode1(self, args):\n",
    "        ..."
   ]
  },
  {
   "cell_type": "markdown",
   "metadata": {},
   "source": [
    "- **`__init__`** $\\Rightarrow$ **constructeur de classe** : c'est une **méthode** qui est exécutée automatiquement lorsque l'on *instancie* (fait de générer un objet concret en appelant la classe) un nouvel objet à partir de la classe. On peut y placer tout ce qui semble nécessaire pour initialiser automatiquement l'objet que l'on crée. Sous Python, la méthode constructeur doit obligatoirement s'appeler `__init__`.\n",
    "- `methode1` $\\Rightarrow$ méthode qui se définit comme une fonction, sauf qu'elle se trouve dans le corps de la classe.\n",
    "- **`self`** : le **premier paramètre** de toutes les méthodes (`__init__`, `methode1`...) est une **instance représentant l'objet lui-même**, et il est appelé `self` par convention (c'est une convention très forte). Viennent ensuite les arguments **`args`** (avec le même principe que pour les fonctions décrites précédemment... puisque les méthodes d'une classe sont des fonctions). Bien que `self` doit être explicitement spécifié lors de la définition de chaque méthode, vous ne devez pas le spécifier lorsque vous appelez la méthode, Python l'ajoutera automatiquement. \n",
    "\n",
    "Utilisation d'une classe :"
   ]
  },
  {
   "cell_type": "raw",
   "metadata": {},
   "source": [
    "mon_instance = ClassName()\n",
    "mon_instance.methode1()"
   ]
  },
  {
   "cell_type": "markdown",
   "metadata": {},
   "source": [
    "Exemple :"
   ]
  },
  {
   "cell_type": "code",
   "execution_count": 43,
   "metadata": {},
   "outputs": [
    {
     "name": "stdout",
     "output_type": "stream",
     "text": [
      "0:0:0\n"
     ]
    }
   ],
   "source": [
    "class Time():\n",
    "    \"\"\"Une classe pour afficher une heure.\"\"\"\n",
    "    def __init__(self, hh =0, mm =0, ss =0):\n",
    "        self.heure = hh\n",
    "        self.minute = mm\n",
    "        self.seconde = ss    \n",
    "    \n",
    "    def affiche_heure(self):\n",
    "        print(str(self.heure) + \":\" + str(self.minute) + \":\" + str(self.seconde))\n",
    "\n",
    "tstart = Time() #nouvelle instance\n",
    "tstart.affiche_heure()"
   ]
  },
  {
   "cell_type": "code",
   "execution_count": 44,
   "metadata": {},
   "outputs": [
    {
     "name": "stdout",
     "output_type": "stream",
     "text": [
      "12:0:0\n"
     ]
    }
   ],
   "source": [
    "tstop = Time(12, 0, 0) #encore une nouvelle instance de la classe Time\n",
    "tstop.affiche_heure()"
   ]
  },
  {
   "cell_type": "markdown",
   "metadata": {},
   "source": [
    "<a href='#bottom'> <h3 align=\"right\"> Haut $\\uparrow$ </h3> </a>\n",
    "# <a id='sec6'></a>   Créer ses propres modules\n",
    "\n",
    "Un **module Python** est tout simplement un fichier portant l'extension .py (version python) ou .pyc (version compilée). Ce fichier peut contenir des variables, des fonctions, des classes, d'autres modules... Contrairement à d'autres langages, il n'y a pas de règles en Python qui imposent une classe par fichier (donc par module). Il est même conseillé de regrouper plusieurs classes par fichier, si celles-ci ont une utilisation similaire par exemple. <br>\n",
    "Un module Python peut intégrer un autre module ce qui peut amener à une hiérarchie plus ou moins complexe. Si les modules de plus bas niveau sont des **fichiers**, les modules de plus haut niveau sont eux des **répertoires**.\n",
    "\n",
    "**Important !**  Pour qu'un répertoire soit vu comme étant un module Python, il faut créer un fichier **`__init__.py`**. Ce dernier est généralement vide, mais il peut aussi contenir le code des éléments spécifiques au module (le code exécuté automatiquement, une seule fois, quand on importe le module).\n",
    "\n",
    "Un script Python type :"
   ]
  },
  {
   "cell_type": "code",
   "execution_count": 46,
   "metadata": {},
   "outputs": [],
   "source": [
    "# On importe les modules dont on a besoin.\n",
    "import numpy as np\n",
    "from random import random\n",
    "\n",
    "\n",
    "# On definit nos fonctions ou nos classes\n",
    "def function():\n",
    "\tpass\n",
    "\n",
    "\n",
    "# Partie du script qui sera execute lorsqu'on lance le script directement (python run.py), \n",
    "# mais qui ne sera pas execute si on l'importe dans un autre script (import run).\n",
    "def main():\n",
    "\tpass\n",
    "\n",
    "\n",
    "if __name__ == '__main__':\n",
    "\tmain()\n"
   ]
  },
  {
   "cell_type": "markdown",
   "metadata": {},
   "source": [
    "<a href='#bottom'> <h3 align=\"right\"> Haut $\\uparrow$ </h3> </a>\n"
   ]
  }
 ],
 "metadata": {
  "kernelspec": {
   "display_name": "Python 3",
   "language": "python",
   "name": "python3"
  },
  "language_info": {
   "codemirror_mode": {
    "name": "ipython",
    "version": 3
   },
   "file_extension": ".py",
   "mimetype": "text/x-python",
   "name": "python",
   "nbconvert_exporter": "python",
   "pygments_lexer": "ipython3",
   "version": "3.5.4"
  }
 },
 "nbformat": 4,
 "nbformat_minor": 1
}
